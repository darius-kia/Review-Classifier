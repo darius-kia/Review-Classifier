{
 "cells": [
  {
   "cell_type": "markdown",
   "id": "aa209660",
   "metadata": {},
   "source": [
    "# Import Libraries"
   ]
  },
  {
   "cell_type": "code",
   "execution_count": 3,
   "id": "c5aaa521",
   "metadata": {},
   "outputs": [],
   "source": [
    "import pandas as pd\n",
    "import numpy as np\n",
    "import re\n",
    "from sklearn.model_selection import train_test_split\n",
    "from sklearn.feature_extraction.text import CountVectorizer\n",
    "from sklearn import svm"
   ]
  },
  {
   "cell_type": "markdown",
   "id": "bc8e6370",
   "metadata": {},
   "source": [
    "# Read Data"
   ]
  },
  {
   "cell_type": "code",
   "execution_count": 8,
   "id": "259ae043",
   "metadata": {},
   "outputs": [],
   "source": [
    "df = pd.read_json(\"./reviews_Amazon_Instant_Video_5.json\", lines=True, dtype={'overall': np.int64}) # cast \"overall\" (rating) column to float)\n",
    "X, y = list(df['reviewText']), list(df['overall'])\n",
    "X_train, X_test, y_train, y_test = train_test_split(X, y, train_size=0.67) # train test split with 2/3 train"
   ]
  },
  {
   "cell_type": "markdown",
   "id": "18e2b4e3",
   "metadata": {},
   "source": [
    "# Vectorize"
   ]
  },
  {
   "cell_type": "code",
   "execution_count": 9,
   "id": "d9bdced0",
   "metadata": {},
   "outputs": [],
   "source": [
    "def remove_nums(text):\n",
    "    text = text.lower()\n",
    "    text = re.sub(r'\\d+', '', text) # remove numbers\n",
    "    text = re.sub(r'_', '', text) # remove underscores\n",
    "    return text"
   ]
  },
  {
   "cell_type": "code",
   "execution_count": null,
   "id": "0c1a979b",
   "metadata": {},
   "outputs": [],
   "source": [
    "vectorizer = CountVectorizer(preprocessor=remove_nums)"
   ]
  }
 ],
 "metadata": {
  "kernelspec": {
   "display_name": "Python 3",
   "language": "python",
   "name": "python3"
  },
  "language_info": {
   "codemirror_mode": {
    "name": "ipython",
    "version": 3
   },
   "file_extension": ".py",
   "mimetype": "text/x-python",
   "name": "python",
   "nbconvert_exporter": "python",
   "pygments_lexer": "ipython3",
   "version": "3.8.5"
  }
 },
 "nbformat": 4,
 "nbformat_minor": 5
}
