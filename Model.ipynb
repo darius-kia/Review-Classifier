{
 "cells": [
  {
   "cell_type": "markdown",
   "id": "75151110",
   "metadata": {},
   "source": [
    "# Import Libraries"
   ]
  },
  {
   "cell_type": "code",
   "execution_count": 2,
   "id": "ec12ccda",
   "metadata": {},
   "outputs": [],
   "source": [
    "import pandas as pd\n",
    "import numpy as np\n",
    "import re\n",
    "import random\n",
    "from sklearn.model_selection import train_test_split\n",
    "from sklearn.feature_extraction.text import CountVectorizer, TfidfVectorizer\n",
    "from sklearn import svm"
   ]
  },
  {
   "cell_type": "markdown",
   "id": "064f6fb8",
   "metadata": {},
   "source": [
    "# Read Data"
   ]
  },
  {
   "cell_type": "code",
   "execution_count": 3,
   "id": "3fde2df7",
   "metadata": {},
   "outputs": [],
   "source": [
    "df = pd.read_json(\"./reviews_Amazon_Instant_Video_5.json\", lines=True, dtype={'overall': np.int64}) # cast \"overall\" (rating) column to float)"
   ]
  },
  {
   "cell_type": "markdown",
   "id": "e8c2a3fb",
   "metadata": {},
   "source": [
    "# Pre-process"
   ]
  },
  {
   "cell_type": "markdown",
   "id": "d01bfacd",
   "metadata": {},
   "source": [
    "## Class balance"
   ]
  },
  {
   "cell_type": "code",
   "execution_count": 24,
   "id": "a9b9fed0",
   "metadata": {},
   "outputs": [
    {
     "name": "stdout",
     "output_type": "stream",
     "text": [
      "(37126,)\n"
     ]
    }
   ],
   "source": [
    "X = df['reviewText']\n",
    "y = df['overall']\n",
    "print(X.shape)"
   ]
  },
  {
   "cell_type": "code",
   "execution_count": 25,
   "id": "ddd1e31c",
   "metadata": {},
   "outputs": [],
   "source": [
    "mapped = []\n",
    "for i in range(len(y)):\n",
    "    if y[i] > 3:\n",
    "        mapped.append((X[i], \"POSITIVE\"))\n",
    "    elif y[i] < 3:\n",
    "        mapped.append((X[i], \"NEGATIVE\"))\n",
    "    # else:\n",
    "    #     mapped.append((X[i], \"NEUTRAL\"))\n",
    "        \n"
   ]
  },
  {
   "cell_type": "code",
   "execution_count": 26,
   "id": "1be9996a",
   "metadata": {},
   "outputs": [],
   "source": [
    "pos = list(filter(lambda i: i[1] == \"POSITIVE\", mapped))\n",
    "# neu = list(filter(lambda i: i[1] == \"NEUTRAL\", mapped))\n",
    "neg = list(filter(lambda i: i[1] == \"NEGATIVE\", mapped))\n",
    "# print(len(pos), len(neu), len(neg))\n",
    "X = list(map(lambda i: i[0], pos[:len(neg)] + neg))\n",
    "y = list(map(lambda i: i[1], pos[:len(neg)] + neg))\n"
   ]
  },
  {
   "cell_type": "markdown",
   "id": "7d26de5e",
   "metadata": {},
   "source": [
    "## Vectorize"
   ]
  },
  {
   "cell_type": "code",
   "execution_count": 27,
   "id": "81cc4a42",
   "metadata": {},
   "outputs": [],
   "source": [
    "def remove_nums(text):\n",
    "    text = text.lower()\n",
    "    text = re.sub(r'\\d+', '', text) # remove numbers\n",
    "    text = re.sub(r'_', '', text) # remove underscores\n",
    "    text = re.sub(r'[?,.!@#$%^&*()_+]', '', text)\n",
    "    return text"
   ]
  },
  {
   "cell_type": "code",
   "execution_count": 28,
   "id": "2459a8b0",
   "metadata": {},
   "outputs": [],
   "source": [
    "vectorizer = TfidfVectorizer(preprocessor=remove_nums, stop_words='english', ngram_range=(1,2))\n",
    "# vectorizer = TfidfVectorizer(preprocessor=remove_nums, stop_words='english')\n",
    "X_vectorized = vectorizer.fit_transform(X)\n"
   ]
  },
  {
   "cell_type": "markdown",
   "id": "d5c42d77",
   "metadata": {},
   "source": [
    "## Attribute Selection"
   ]
  },
  {
   "cell_type": "code",
   "execution_count": 29,
   "id": "94aeb3d1",
   "metadata": {},
   "outputs": [],
   "source": [
    "from sklearn.feature_selection import SelectKBest"
   ]
  },
  {
   "cell_type": "markdown",
   "id": "8e7fe97d",
   "metadata": {},
   "source": [
    "### All attributes"
   ]
  },
  {
   "cell_type": "code",
   "execution_count": 11,
   "id": "e7b1fd01",
   "metadata": {},
   "outputs": [],
   "source": [
    "X_new = X_vectorized"
   ]
  },
  {
   "cell_type": "markdown",
   "id": "ac787c93",
   "metadata": {},
   "source": [
    "### Chi-squared"
   ]
  },
  {
   "cell_type": "code",
   "execution_count": 30,
   "id": "89eb3167",
   "metadata": {},
   "outputs": [],
   "source": [
    "from sklearn.feature_selection import chi2\n",
    "X_new = SelectKBest(chi2, k=20000).fit_transform(X_vectorized, y)"
   ]
  },
  {
   "cell_type": "markdown",
   "id": "04c17790",
   "metadata": {},
   "source": [
    "### ANOVA F-Value"
   ]
  },
  {
   "cell_type": "code",
   "execution_count": 40,
   "id": "6e97cd05",
   "metadata": {},
   "outputs": [],
   "source": [
    "from sklearn.feature_selection import f_classif\n",
    "X_new = SelectKBest(f_classif, k=20000).fit_transform(X_vectorized, y)"
   ]
  },
  {
   "cell_type": "markdown",
   "id": "b4fd2da1",
   "metadata": {},
   "source": [
    "### False positive rate test"
   ]
  },
  {
   "cell_type": "code",
   "execution_count": 50,
   "id": "0c252471",
   "metadata": {},
   "outputs": [],
   "source": [
    "from sklearn.feature_selection import SelectFpr\n",
    "X_new = SelectFpr(alpha=0.05).fit_transform(X_vectorized, y)"
   ]
  },
  {
   "cell_type": "markdown",
   "id": "8328be8c",
   "metadata": {},
   "source": [
    "## Train test split"
   ]
  },
  {
   "cell_type": "code",
   "execution_count": 51,
   "id": "58791e3d",
   "metadata": {},
   "outputs": [],
   "source": [
    "X_train, X_test, y_train, y_test = train_test_split(X_new, y, train_size=0.67) # train test split with 2/3 train"
   ]
  },
  {
   "cell_type": "markdown",
   "id": "02205a8e",
   "metadata": {},
   "source": [
    "# Classify"
   ]
  },
  {
   "cell_type": "markdown",
   "id": "2d2776ca",
   "metadata": {},
   "source": [
    "## Naive Bayes"
   ]
  },
  {
   "cell_type": "code",
   "execution_count": 52,
   "id": "4ede0565",
   "metadata": {},
   "outputs": [
    {
     "data": {
      "text/plain": [
       "GaussianNB()"
      ]
     },
     "execution_count": 52,
     "metadata": {},
     "output_type": "execute_result"
    }
   ],
   "source": [
    "from sklearn.naive_bayes import GaussianNB\n",
    "nb_classifier = GaussianNB()\n",
    "nb_classifier.fit(X_train.toarray(), y_train) "
   ]
  },
  {
   "cell_type": "markdown",
   "id": "d9503991",
   "metadata": {},
   "source": [
    "## Random Forest"
   ]
  },
  {
   "cell_type": "code",
   "execution_count": 53,
   "id": "bce7474f",
   "metadata": {},
   "outputs": [
    {
     "data": {
      "text/plain": [
       "RandomForestClassifier(max_depth=10)"
      ]
     },
     "execution_count": 53,
     "metadata": {},
     "output_type": "execute_result"
    }
   ],
   "source": [
    "from sklearn.ensemble import RandomForestClassifier\n",
    "rf_classifier = RandomForestClassifier(max_depth=10)\n",
    "rf_classifier.fit(X_train.toarray(), y_train)\n"
   ]
  },
  {
   "cell_type": "markdown",
   "id": "d11d9d39",
   "metadata": {},
   "source": [
    "## Neighbors"
   ]
  },
  {
   "cell_type": "code",
   "execution_count": 54,
   "id": "992c121d",
   "metadata": {},
   "outputs": [
    {
     "data": {
      "text/plain": [
       "KNeighborsClassifier(n_neighbors=10)"
      ]
     },
     "execution_count": 54,
     "metadata": {},
     "output_type": "execute_result"
    }
   ],
   "source": [
    "from sklearn.neighbors import KNeighborsClassifier\n",
    "\n",
    "n_classifier = KNeighborsClassifier(n_neighbors = 10)\n",
    "n_classifier.fit(X_train.toarray(), y_train)"
   ]
  },
  {
   "cell_type": "markdown",
   "id": "bb7f6489",
   "metadata": {},
   "source": [
    "## Logistic Regression"
   ]
  },
  {
   "cell_type": "code",
   "execution_count": 55,
   "id": "1ed0c654",
   "metadata": {},
   "outputs": [
    {
     "data": {
      "text/plain": [
       "LogisticRegression(random_state=0)"
      ]
     },
     "execution_count": 55,
     "metadata": {},
     "output_type": "execute_result"
    }
   ],
   "source": [
    "from sklearn.linear_model import LogisticRegression\n",
    "lr_classifier = LogisticRegression(random_state = 0)\n",
    "lr_classifier.fit(X_train.toarray(), y_train)"
   ]
  },
  {
   "cell_type": "markdown",
   "id": "723d1e91",
   "metadata": {},
   "source": [
    "# Evaluate"
   ]
  },
  {
   "cell_type": "code",
   "execution_count": 56,
   "id": "ac804dbc",
   "metadata": {},
   "outputs": [
    {
     "name": "stdout",
     "output_type": "stream",
     "text": [
      "0.8805719091673675\n"
     ]
    }
   ],
   "source": [
    "print(nb_classifier.score(X_test.toarray(), y_test))"
   ]
  },
  {
   "cell_type": "code",
   "execution_count": 57,
   "id": "41e1afc4",
   "metadata": {},
   "outputs": [
    {
     "name": "stdout",
     "output_type": "stream",
     "text": [
      "0.81959629941127\n"
     ]
    }
   ],
   "source": [
    "print(rf_classifier.score(X_test.toarray(), y_test))"
   ]
  },
  {
   "cell_type": "code",
   "execution_count": 58,
   "id": "03902ae3",
   "metadata": {},
   "outputs": [
    {
     "name": "stdout",
     "output_type": "stream",
     "text": [
      "0.5496215306980656\n"
     ]
    }
   ],
   "source": [
    "print(n_classifier.score(X_test.toarray(), y_test))"
   ]
  },
  {
   "cell_type": "code",
   "execution_count": 59,
   "id": "ad7ca700",
   "metadata": {},
   "outputs": [
    {
     "name": "stdout",
     "output_type": "stream",
     "text": [
      "0.8700588730025232\n"
     ]
    }
   ],
   "source": [
    "print(lr_classifier.score(X_test.toarray(), y_test))"
   ]
  }
 ],
 "metadata": {
  "interpreter": {
   "hash": "f765c978bbf1599ac5ff0eefaab7e6a11f8d68341b098acd75bf14e955615d5b"
  },
  "kernelspec": {
   "display_name": "Python 3 (ipykernel)",
   "language": "python",
   "name": "python3"
  },
  "language_info": {
   "codemirror_mode": {
    "name": "ipython",
    "version": 3
   },
   "file_extension": ".py",
   "mimetype": "text/x-python",
   "name": "python",
   "nbconvert_exporter": "python",
   "pygments_lexer": "ipython3",
   "version": "3.8.5"
  }
 },
 "nbformat": 4,
 "nbformat_minor": 5
}
