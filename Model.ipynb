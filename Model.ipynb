{
 "cells": [
  {
   "cell_type": "markdown",
   "id": "75151110",
   "metadata": {},
   "source": [
    "# Import Libraries"
   ]
  },
  {
   "cell_type": "code",
   "execution_count": 1,
   "metadata": {},
   "outputs": [],
   "source": [
    "import pandas as pd\n",
    "import numpy as np\n",
    "import re\n",
    "import random\n",
    "from sklearn.model_selection import train_test_split\n",
    "from sklearn.feature_extraction.text import CountVectorizer, TfidfVectorizer\n",
    "from sklearn import svm"
   ]
  },
  {
   "cell_type": "markdown",
   "id": "064f6fb8",
   "metadata": {},
   "source": [
    "# Read Data"
   ]
  },
  {
   "cell_type": "code",
   "execution_count": 2,
   "id": "3fde2df7",
   "metadata": {},
   "outputs": [],
   "source": [
    "df = pd.read_json(\"./reviews_Amazon_Instant_Video_5.json\", lines=True, dtype={'overall': np.int64}) # cast \"overall\" (rating) column to float)"
   ]
  },
  {
   "cell_type": "markdown",
   "id": "e8c2a3fb",
   "metadata": {},
   "source": [
    "# Pre-process"
   ]
  },
  {
   "cell_type": "markdown",
   "metadata": {},
   "source": [
    "## Class balance"
   ]
  },
  {
   "cell_type": "code",
   "execution_count": 3,
   "metadata": {},
   "outputs": [
    {
     "name": "stdout",
     "output_type": "stream",
     "text": [
      "5    20890\n",
      "4     8446\n",
      "3     4187\n",
      "2     1885\n",
      "1     1718\n",
      "Name: overall, dtype: int64\n",
      "8590 8590\n"
     ]
    }
   ],
   "source": [
    "val_counts = df['overall'].value_counts()\n",
    "min_val = val_counts.min()\n",
    "print(val_counts)\n",
    "X = []\n",
    "y = []\n",
    "for i in range(1, 6):\n",
    "    vals = df[df['overall'] == i][:min_val]\n",
    "    X += list(vals['reviewText'])\n",
    "    y += list(vals['overall'])\n",
    "print(len(X), len(y))"
   ]
  },
  {
   "cell_type": "markdown",
   "metadata": {},
   "source": [
    "## Convert star ratings"
   ]
  },
  {
   "cell_type": "code",
   "execution_count": 4,
   "metadata": {},
   "outputs": [
    {
     "name": "stdout",
     "output_type": "stream",
     "text": [
      "6872 6872\n"
     ]
    }
   ],
   "source": [
    "mapped_x = []\n",
    "mapped_y = []\n",
    "for i in range(len(y)):\n",
    "    if y[i] > 3:\n",
    "        mapped_y.append(\"POSITIVE\")\n",
    "        mapped_x.append(X[i])\n",
    "    elif y[i] < 3:\n",
    "        mapped_y.append(\"NEGATIVE\")\n",
    "        mapped_x.append(X[i])\n",
    "\n",
    "print(len(mapped_x), len(mapped_y))"
   ]
  },
  {
   "cell_type": "markdown",
   "metadata": {},
   "source": [
    "## Train Test Split"
   ]
  },
  {
   "cell_type": "code",
   "execution_count": 5,
   "metadata": {},
   "outputs": [],
   "source": [
    "X_train, X_test, y_train, y_test = train_test_split(mapped_x, mapped_y, train_size=0.67) # train test split with 2/3 train"
   ]
  },
  {
   "cell_type": "code",
   "execution_count": 6,
   "metadata": {},
   "outputs": [
    {
     "data": {
      "text/plain": [
       "2316"
      ]
     },
     "execution_count": 6,
     "metadata": {},
     "output_type": "execute_result"
    }
   ],
   "source": [
    "len(list(filter(lambda x: x == 'POSITIVE', y_train)))\n",
    "len(list(filter(lambda x: x == 'NEGATIVE', y_train)))"
   ]
  },
  {
   "cell_type": "code",
   "execution_count": 7,
   "id": "940edc38",
   "metadata": {},
   "outputs": [],
   "source": [
    "def remove_nums(text):\n",
    "    text = text.lower()\n",
    "    text = re.sub(r'\\d+', '', text) # remove numbers\n",
    "    text = re.sub(r'_', '', text) # remove underscores\n",
    "    text = re.sub(r'[?,.!@#$%^&*()_+]', '', text)\n",
    "    return text"
   ]
  },
  {
   "cell_type": "code",
   "execution_count": 8,
   "metadata": {},
   "outputs": [],
   "source": [
    "vectorizer = TfidfVectorizer(preprocessor=remove_nums, stop_words='english', ngram_range=(1,2))\n",
    "train_x_vectorized = vectorizer.fit_transform(X_train)\n",
    "test_x_vectorized = vectorizer.transform(X_test)"
   ]
  },
  {
   "cell_type": "markdown",
   "metadata": {},
   "source": [
    "# Classify"
   ]
  },
  {
   "cell_type": "markdown",
   "metadata": {},
   "source": [
    "## Naive Bayes"
   ]
  },
  {
   "cell_type": "code",
   "execution_count": 9,
   "metadata": {},
   "outputs": [
    {
     "data": {
      "text/plain": [
       "GaussianNB()"
      ]
     },
     "execution_count": 9,
     "metadata": {},
     "output_type": "execute_result"
    }
   ],
   "source": [
    "from sklearn.naive_bayes import GaussianNB\n",
    "nb_classifier = GaussianNB()\n",
    "nb_classifier.fit(train_x_vectorized.toarray(), y_train) "
   ]
  },
  {
   "cell_type": "code",
   "execution_count": 10,
   "metadata": {},
   "outputs": [
    {
     "name": "stdout",
     "output_type": "stream",
     "text": [
      "['POSITIVE']\n",
      "NEGATIVE\n"
     ]
    }
   ],
   "source": [
    "i = 17\n",
    "print(nb_classifier.predict(test_x_vectorized[i].toarray()))\n",
    "print(y_test[i])"
   ]
  },
  {
   "cell_type": "markdown",
   "metadata": {},
   "source": [
    "## Random Forest"
   ]
  },
  {
   "cell_type": "code",
   "execution_count": 11,
   "metadata": {},
   "outputs": [
    {
     "data": {
      "text/plain": [
       "RandomForestClassifier(max_depth=6)"
      ]
     },
     "execution_count": 11,
     "metadata": {},
     "output_type": "execute_result"
    }
   ],
   "source": [
    "from sklearn.ensemble import RandomForestClassifier\n",
    "rf_classifier = RandomForestClassifier(max_depth = 6)\n",
    "rf_classifier.fit(train_x_vectorized.toarray(), y_train)\n"
   ]
  },
  {
   "cell_type": "markdown",
   "metadata": {},
   "source": [
    "## Neighbors"
   ]
  },
  {
   "cell_type": "code",
   "execution_count": 12,
   "metadata": {},
   "outputs": [
    {
     "data": {
      "text/plain": [
       "KNeighborsClassifier(n_neighbors=10)"
      ]
     },
     "execution_count": 12,
     "metadata": {},
     "output_type": "execute_result"
    }
   ],
   "source": [
    "from sklearn.neighbors import KNeighborsClassifier\n",
    "\n",
    "n_classifier = KNeighborsClassifier(n_neighbors = 10)\n",
    "n_classifier.fit(train_x_vectorized.toarray(), y_train)"
   ]
  },
  {
   "cell_type": "markdown",
   "metadata": {},
   "source": [
    "## Logistic Regression (does not converge)"
   ]
  },
  {
   "cell_type": "code",
   "execution_count": 13,
   "metadata": {},
   "outputs": [
    {
     "data": {
      "text/plain": [
       "LogisticRegression(random_state=0)"
      ]
     },
     "execution_count": 13,
     "metadata": {},
     "output_type": "execute_result"
    }
   ],
   "source": [
    "from sklearn.linear_model import LogisticRegression\n",
    "lr_classifier = LogisticRegression(random_state = 0)\n",
    "lr_classifier.fit(train_x_vectorized.toarray(), y_train)"
   ]
  },
  {
   "cell_type": "markdown",
   "metadata": {},
   "source": [
    "# Evaluate"
   ]
  },
  {
   "cell_type": "code",
   "execution_count": 14,
   "metadata": {},
   "outputs": [
    {
     "name": "stdout",
     "output_type": "stream",
     "text": [
      "0.7574955908289241\n"
     ]
    }
   ],
   "source": [
    "print(nb_classifier.score(test_x_vectorized.toarray(), y_test))"
   ]
  },
  {
   "cell_type": "code",
   "execution_count": 15,
   "metadata": {},
   "outputs": [
    {
     "name": "stdout",
     "output_type": "stream",
     "text": [
      "0.7605820105820106\n"
     ]
    }
   ],
   "source": [
    "print(rf_classifier.score(test_x_vectorized.toarray(), y_test))"
   ]
  },
  {
   "cell_type": "code",
   "execution_count": 16,
   "metadata": {},
   "outputs": [
    {
     "name": "stdout",
     "output_type": "stream",
     "text": [
      "0.8328924162257496\n"
     ]
    }
   ],
   "source": [
    "print(n_classifier.score(test_x_vectorized.toarray(), y_test))"
   ]
  },
  {
   "cell_type": "code",
   "execution_count": 17,
   "metadata": {},
   "outputs": [
    {
     "name": "stdout",
     "output_type": "stream",
     "text": [
      "0.8597883597883598\n"
     ]
    }
   ],
   "source": [
    "print(lr_classifier.score(test_x_vectorized.toarray(), y_test))"
   ]
  },
  {
   "cell_type": "code",
   "execution_count": null,
   "metadata": {},
   "outputs": [],
   "source": []
  }
 ],
 "metadata": {
  "interpreter": {
   "hash": "79ddfe37bf9a5384b9e2e413616df70c47de09387148ded9f79fdb74c0aa64ed"
  },
  "kernelspec": {
   "display_name": "Python 3.8.11 64-bit ('base': conda)",
   "name": "python3"
  },
  "language_info": {
   "codemirror_mode": {
    "name": "ipython",
    "version": 3
   },
   "file_extension": ".py",
   "mimetype": "text/x-python",
   "name": "python",
   "nbconvert_exporter": "python",
   "pygments_lexer": "ipython3",
   "version": "3.8.11"
  }
 },
 "nbformat": 4,
 "nbformat_minor": 5
}
